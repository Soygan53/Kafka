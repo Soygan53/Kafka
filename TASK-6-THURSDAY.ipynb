{
  "nbformat": 4,
  "nbformat_minor": 0,
  "metadata": {
    "colab": {
      "provenance": []
    },
    "kernelspec": {
      "name": "python3",
      "display_name": "Python 3"
    },
    "language_info": {
      "name": "python"
    }
  },
  "cells": [
    {
      "cell_type": "markdown",
      "source": [
        "#13 Ekim Perşembe Günü Ödev Cevapları\n",
        "\n",
        "---\n",
        "\n"
      ],
      "metadata": {
        "id": "oyTYPM3Gw7G7"
      }
    },
    {
      "cell_type": "markdown",
      "source": [
        "### Ödev1) Json-Dictionary arasındaki fark nedir? Dumps Ne işe yarıyor? Neden encode kullandık? Neden data.encode.utf-8nşeklinde kullanmadık."
      ],
      "metadata": {
        "id": "ySaKiBNIxKhT"
      }
    },
    {
      "cell_type": "markdown",
      "source": [
        "Cevap1)\n",
        "\n",
        "1.   JSON bir veri formatıdır (string), Python sözlüğü bir veri yapısıdır (in-memory object).\n",
        "2.   json. dumps() fonksiyonu, Python nesnelerinin bir alt kümesini bir json stringe dönüştürür.\n",
        "1.   Python 3.0'dan beri, stringler Unicode olarak depolanır, yani dizedeki her karakter bir kod noktası ile temsil edilir. Bu nedenle, her dize yalnızca bir Unicode kod noktaları sekansıdır. Bu stringlerin verimli bir şekilde saklanması için kod noktaları sekansı bir dizi bayta dönüştürülür. Bu işlem encoding olarak bilinir.\n",
        "\n"
      ],
      "metadata": {
        "id": "s6g_luZjxXdP"
      }
    },
    {
      "cell_type": "markdown",
      "source": [
        "### Ödev2) Json dumps nedir json load nedir json loads nedir?"
      ],
      "metadata": {
        "id": "vIXPg5hlx-F-"
      }
    },
    {
      "cell_type": "markdown",
      "source": [
        "Cevap2)\n",
        "\n",
        "\n",
        "1.   json loads: bir JSON String belgesini Python sözlüğüne dönüştürmek için kullanılır.\n",
        "1.   Json load: bir dosyadan JSON belgesini okumak için kullanılır.\n",
        "2.   json dumps: bir nesneden json nesnesini temsil eden bir stringe döndürür."
      ],
      "metadata": {
        "id": "6lRhpiB7zr-N"
      }
    },
    {
      "cell_type": "markdown",
      "source": [
        "### Ödev3) Dockera girdikten sonra spesific bir container hangi networkta çalışıyor ve default ip nasıl bulunacak? Bir satırlık kod olarak yazılacak."
      ],
      "metadata": {
        "id": "rj9jwNa80wum"
      }
    },
    {
      "cell_type": "markdown",
      "source": [
        "Cevap3)\n",
        "1.  Docker genellikle containerler için default 172.17. 0.0/16 subnet kullanır.\n",
        "2.  Default id --------------docker inspect -f '{{range.NetworkSettings.Networks}}{{.IPAddress}}{{end}}' container_name_or_id------------ ile bulunur."
      ],
      "metadata": {
        "id": "586zlik90zSG"
      }
    },
    {
      "cell_type": "markdown",
      "source": [
        "### Ödev5) Neden UTF-8 kullanıyoruz?"
      ],
      "metadata": {
        "id": "IlKYLiBI2kVm"
      }
    },
    {
      "cell_type": "markdown",
      "source": [
        "Cevap5)\n",
        "UTF-8, bir karakter kodlamasıdır ve Unicode'daki tüm 1.112.064 geçerli karakter kod noktalarını kodlayabilir."
      ],
      "metadata": {
        "id": "Klr0gWYC23OC"
      }
    },
    {
      "cell_type": "markdown",
      "source": [
        "### Ödev6) 192.168.0.1 nedir ve 127.00.01 arasındaki fark nedir?"
      ],
      "metadata": {
        "id": "6Kt-iFXh3Hz1"
      }
    },
    {
      "cell_type": "markdown",
      "source": [
        "Cevap6) 192.168.0.1 modem ve routerlarla kurulan networkteki ip adresidir. 127.00.01 ise bilgisayarımızın sahip olduğu yerel ip adresidir."
      ],
      "metadata": {
        "id": "e7roAd-g3SQc"
      }
    }
  ]
}